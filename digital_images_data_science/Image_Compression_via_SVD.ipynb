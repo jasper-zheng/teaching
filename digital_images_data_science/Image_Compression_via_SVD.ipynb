{
  "nbformat": 4,
  "nbformat_minor": 0,
  "metadata": {
    "colab": {
      "provenance": [],
      "include_colab_link": true
    },
    "kernelspec": {
      "name": "python3",
      "display_name": "Python 3"
    },
    "language_info": {
      "name": "python"
    }
  },
  "cells": [
    {
      "cell_type": "markdown",
      "metadata": {
        "id": "view-in-github",
        "colab_type": "text"
      },
      "source": [
        "<a href=\"https://colab.research.google.com/github/jasper-zheng/teaching/blob/main/digital_images_data_science/Image_Compression_via_SVD.ipynb\" target=\"_parent\"><img src=\"https://colab.research.google.com/assets/colab-badge.svg\" alt=\"Open In Colab\"/></a>"
      ]
    },
    {
      "cell_type": "markdown",
      "source": [
        "# Compressing a Grayscale Image via Singular Value Decomposition (SVD)\n",
        "\n",
        "Materials for Methods 2: Digital Systems, Week 4: **Digital Images x Data Science**.   \n",
        "Author: Jasper Shuoyang Zheng"
      ],
      "metadata": {
        "id": "V3zqkvEp4y5j"
      }
    },
    {
      "cell_type": "markdown",
      "source": [
        "## Step 1 - Load an Image"
      ],
      "metadata": {
        "id": "vT_WSgxY5ZpY"
      }
    },
    {
      "cell_type": "markdown",
      "source": [
        "Load libraries"
      ],
      "metadata": {
        "id": "re6m1QzX5B_y"
      }
    },
    {
      "cell_type": "code",
      "execution_count": null,
      "metadata": {
        "id": "1bvPaInE1NPK"
      },
      "outputs": [],
      "source": [
        "from PIL import Image\n",
        "import matplotlib.pyplot as plt\n",
        "import numpy as np"
      ]
    },
    {
      "cell_type": "markdown",
      "source": [
        "Load the image using PIL.Image, convert to grayscale and display"
      ],
      "metadata": {
        "id": "4O5p0egP5Dal"
      }
    },
    {
      "cell_type": "code",
      "source": [
        "# download the image\n",
        "!wget https://github.com/jasper-zheng/teaching/blob/main/digital_images_data_science/img.jpg?raw=true -O img.jpg"
      ],
      "metadata": {
        "id": "NifMGJjcgvrv"
      },
      "execution_count": null,
      "outputs": []
    },
    {
      "cell_type": "code",
      "source": [
        "img = Image.open('img.jpg').convert('L')\n",
        "plt.imshow(img, cmap='gray')\n",
        "plt.show()"
      ],
      "metadata": {
        "id": "EY6nUTQN2Xu9"
      },
      "execution_count": null,
      "outputs": []
    },
    {
      "cell_type": "markdown",
      "source": [
        "Covert the image into a [NumPy](https://numpy.org/doc/stable/reference/generated/numpy.array.html) matrix"
      ],
      "metadata": {
        "id": "Afuh2LFT5IAI"
      }
    },
    {
      "cell_type": "code",
      "source": [
        "img_matrix = np.array(img)\n",
        "img_matrix.shape"
      ],
      "metadata": {
        "id": "kF5wmRcj2aOs"
      },
      "execution_count": null,
      "outputs": []
    },
    {
      "cell_type": "markdown",
      "source": [
        "## Step 2 - Run SVD on the Data Matrix"
      ],
      "metadata": {
        "id": "k1QPZyTY5WsA"
      }
    },
    {
      "cell_type": "code",
      "source": [
        "U, sigma, V = np.linalg.svd(img_matrix)"
      ],
      "metadata": {
        "id": "coeV5AIE4apv"
      },
      "execution_count": null,
      "outputs": []
    },
    {
      "cell_type": "code",
      "source": [
        "print(f'Left-singular vectors U: {U.shape}')\n",
        "print(f'Singular values Sigma: {sigma.shape}')\n",
        "print(f'Right-singular vectors V: {V.shape}')"
      ],
      "metadata": {
        "id": "oMKx2bhz6Lqr"
      },
      "execution_count": null,
      "outputs": []
    },
    {
      "cell_type": "markdown",
      "source": [
        "## Step 3 - Compress and Reconstruct the Matrix\n",
        "\n",
        "Thus, the first few left-singular vectors and right-singular vectors represent the most prominent information (the **Principal Components**) of the image"
      ],
      "metadata": {
        "id": "QeogiqHG6153"
      }
    },
    {
      "cell_type": "markdown",
      "source": [
        "**Compress U**"
      ],
      "metadata": {
        "id": "sg3uwVqx70cE"
      }
    },
    {
      "cell_type": "code",
      "source": [
        "U_comp_1 = np.matrix(U[:, :1])\n",
        "U_comp_1.shape"
      ],
      "metadata": {
        "id": "toOWEOk_6kLK"
      },
      "execution_count": null,
      "outputs": []
    },
    {
      "cell_type": "markdown",
      "source": [
        "**Compress Sigma**"
      ],
      "metadata": {
        "id": "j55pYi5P8Am5"
      }
    },
    {
      "cell_type": "code",
      "source": [
        "sigma_comp_1 = np.diag(sigma[:1])\n",
        "sigma_comp_1.shape"
      ],
      "metadata": {
        "id": "hV8Fszh67_mG"
      },
      "execution_count": null,
      "outputs": []
    },
    {
      "cell_type": "markdown",
      "source": [
        "**Compress V**"
      ],
      "metadata": {
        "id": "c5RiB07-8KkV"
      }
    },
    {
      "cell_type": "code",
      "source": [
        "V_comp_1 = np.matrix(V[:1, :])\n",
        "V_comp_1.shape"
      ],
      "metadata": {
        "id": "tnzNNxeZ8JT6"
      },
      "execution_count": null,
      "outputs": []
    },
    {
      "cell_type": "markdown",
      "source": [
        "**Reconstruct the Image**"
      ],
      "metadata": {
        "id": "A8H0_ZXO8Rjy"
      }
    },
    {
      "cell_type": "code",
      "source": [
        "reconstion_1 = U_comp_1 * sigma_comp_1 * V_comp_1\n",
        "reconstion_1.shape"
      ],
      "metadata": {
        "id": "6Qtks8q08P8v"
      },
      "execution_count": null,
      "outputs": []
    },
    {
      "cell_type": "code",
      "source": [
        "plt.imshow(reconstion_1, cmap='gray')\n",
        "plt.title(f'Number of components: 1')\n",
        "plt.show()"
      ],
      "metadata": {
        "id": "ItM9cUxR8gZt"
      },
      "execution_count": null,
      "outputs": []
    },
    {
      "cell_type": "markdown",
      "source": [
        "## Step 4 - Test Different Numbers of Components"
      ],
      "metadata": {
        "id": "6VdABldU9LdP"
      }
    },
    {
      "cell_type": "code",
      "source": [
        "components = [2, 4, 8, 16, 32, 64]"
      ],
      "metadata": {
        "id": "Mzl3-r6z9lf4"
      },
      "execution_count": null,
      "outputs": []
    },
    {
      "cell_type": "code",
      "source": [
        "for c in components:\n",
        "  U_comp = np.matrix(U[:, :c])\n",
        "  sigma_comp = np.diag(sigma[:c])\n",
        "  V_comp = np.matrix(V[:c, :])\n",
        "  reconstion = U_comp * sigma_comp * V_comp\n",
        "  plt.imshow(reconstion, cmap='gray')\n",
        "  plt.title(f'Number of components: {c}')\n",
        "  plt.show()"
      ],
      "metadata": {
        "id": "JHZeZTLo8ll2"
      },
      "execution_count": null,
      "outputs": []
    },
    {
      "cell_type": "code",
      "source": [
        "1200*64+64+900*64"
      ],
      "metadata": {
        "id": "FBEMxwbKD_dQ"
      },
      "execution_count": null,
      "outputs": []
    },
    {
      "cell_type": "code",
      "source": [
        "1080000/134464"
      ],
      "metadata": {
        "id": "CKjy5KeEECC9"
      },
      "execution_count": null,
      "outputs": []
    },
    {
      "cell_type": "code",
      "source": [],
      "metadata": {
        "id": "QdueXj7JEGwy"
      },
      "execution_count": null,
      "outputs": []
    }
  ]
}