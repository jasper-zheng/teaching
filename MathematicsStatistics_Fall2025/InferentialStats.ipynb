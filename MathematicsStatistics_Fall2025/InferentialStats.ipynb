{
 "cells": [
  {
   "cell_type": "markdown",
   "metadata": {},
   "source": [
    "# Inferential Statistics: t-tests and ANOVA\n",
    "\n",
    "This notebook guides you through core inferential statistics workflows used in data science and behavioral research:\n",
    "\n",
    "- Two-sample/paired t-tests (comparing means)\n",
    "- One-way ANOVA (comparing 3+ group means)\n",
    "- Factorial (two-way) ANOVA with interaction\n",
    "\n",
    "**Note:** If you see import errors, ensure the required packages in `requirements.txt` are installed for your environment, do this by running the command: `!pip install -r ../requirements.txt`\n"
   ]
  },
  {
   "cell_type": "markdown",
   "metadata": {},
   "source": [
    " # Practical 1: SAMPLE T TEST  \n",
    "\n",
    " This section walks you through running and interpreting a t-test to compare two related sets of measurements.\n"
   ]
  },
  {
   "cell_type": "markdown",
   "metadata": {},
   "source": [
    " ## 1.1 Import necessary libraries"
   ]
  },
  {
   "cell_type": "code",
   "execution_count": 9,
   "metadata": {},
   "outputs": [],
   "source": [
    "# Import library\n",
    "import scipy.stats as stats\n",
    "from statsmodels.stats.weightstats import ttest_ind, ttost_paired\n",
    "import matplotlib.pyplot as plt\n",
    "import numpy as np\n"
   ]
  },
  {
   "cell_type": "markdown",
   "metadata": {},
   "source": [
    "## 1.2 Enter the dummy data arrays (data_array1, data_array2)   "
   ]
  },
  {
   "cell_type": "code",
   "execution_count": 10,
   "metadata": {},
   "outputs": [],
   "source": [
    "# Creating data arrays\n",
    "data_array1 = np.array([14, 15, 15, 16, 13, 8, 14, 17, 16, 14, 19, 20, 21, 15, 15, 16, 16, 13, 14, 12])\n",
    "data_array2 = np.array([15, 17, 14, 17, 14, 8, 12, 19, 19, 14, 17, 22, 24, 16, 13, 16, 13, 18, 15, 13])\n"
   ]
  },
  {
   "cell_type": "markdown",
   "metadata": {},
   "source": [
    "## 1.3 Create a demo visualisation with bar chart of means and error bars   "
   ]
  },
  {
   "cell_type": "code",
   "execution_count": 11,
   "metadata": {},
   "outputs": [
    {
     "data": {
      "image/png": "[encoded data removed]",
      "text/plain": [
       "<Figure size 200x400 with 1 Axes>"
      ]
     },
     "metadata": {},
     "output_type": "display_data"
    }
   ],
   "source": [
    "# Calculating means and standard deviations\n",
    "means = [np.mean(data_array1), np.mean(data_array2)]\n",
    "std_devs = [np.std(data_array1), np.std(data_array2)]\n",
    "\n",
    "# Plotting the bar chart with error bars\n",
    "plt.figure(figsize=(2, 4))\n",
    "plt.bar(['Array 1', 'Array 2'], means, yerr=std_devs)\n",
    "plt.xlabel('Data Arrays')\n",
    "plt.ylabel('Mean Values')\n",
    "plt.title('Bar chart of means with error bars')\n",
    "plt.show()"
   ]
  },
  {
   "cell_type": "markdown",
   "metadata": {},
   "source": [
    "## 1.4 Variance Check  \n",
    "\n",
    "Note: There are 3 asumptions for T-test/Anova:   \n",
    "1. Independent samples   \n",
    "2. Data elements in each dataset follows Normal Distribution or atleast 30 samples needed   \n",
    "3. **Same Variance (Homegenity Test))**\n",
    "\n",
    "So, here we check the variance of each data array to se if we are **performing the two sample t-test with equal variances**  "
   ]
  },
  {
   "cell_type": "code",
   "execution_count": 12,
   "metadata": {},
   "outputs": [
    {
     "name": "stdout",
     "output_type": "stream",
     "text": [
      "7.727500000000001 12.260000000000002\n"
     ]
    }
   ],
   "source": [
    "# Print the variance of the arrays (each data group) \n",
    "print(np.var(data_array1), np.var(data_array2))\n"
   ]
  },
  {
   "cell_type": "markdown",
   "metadata": {},
   "source": [
    "**Inference:**\n",
    "Ratio of large dataset variance to small dataset variance less than 4:1 ---> Same Variance (One of the assumptions for T-Test satisfied (Here: 12.26/7.7275 ~ 1.58:1 which is less than 4:1) ). \n",
    "\n"
   ]
  },
  {
   "cell_type": "markdown",
   "metadata": {},
   "source": [
    "## 1.5 T-Test  \n",
    "\n",
    "Using `SciPy` library for performing a t-test: [https://docs.scipy.org/doc/scipy/reference/generated/scipy.stats.ttest_ind.html](https://docs.scipy.org/doc/scipy/reference/generated/scipy.stats.ttest_ind.html)  \n",
    "<!-- \n",
    "2. Using `Statsmodel` package: [https://www.statsmodels.org/stable/generated/statsmodels.stats.weightstats.ttest_ind.html](https://www.statsmodels.org/stable/generated/statsmodels.stats.weightstats.ttest_ind.html) -->"
   ]
  },
  {
   "cell_type": "code",
   "execution_count": 13,
   "metadata": {},
   "outputs": [
    {
     "name": "stdout",
     "output_type": "stream",
     "text": [
      "TtestResult(statistic=np.float64(-1.4675108844031506), pvalue=np.float64(0.15859630923429863), df=np.int64(19))\n"
     ]
    }
   ],
   "source": [
    "# Perform the two sample t-test with equal variances using SciPy (Scientific Python Library)\n",
    "result1 = stats.ttest_rel(a=data_array1, b=data_array2)\n",
    "# Print the result\n",
    "print(result1)\n"
   ]
  },
  {
   "cell_type": "markdown",
   "metadata": {},
   "source": [
    "## Class Task 1 ##\n",
    "\n",
    "Following the steps above, this time perform a T-test on the data from PPT slide 34 (caffeine vs. without caffeine)    \n",
    "\n",
    "**T Test:** (Two Sample Method) using Scipy library  \n"
   ]
  },
  {
   "cell_type": "markdown",
   "metadata": {},
   "source": [
    "**Step 1:** Manually enter data from slide 34 (caffeine vs. without caffeine) into arrays  "
   ]
  },
  {
   "cell_type": "code",
   "execution_count": 6,
   "metadata": {},
   "outputs": [],
   "source": [
    "# Put your code here:\n",
    "\n"
   ]
  },
  {
   "cell_type": "markdown",
   "metadata": {},
   "source": [
    "**Step 2:** Visualise the data  \n"
   ]
  },
  {
   "cell_type": "code",
   "execution_count": 7,
   "metadata": {},
   "outputs": [],
   "source": [
    "# Put your code here:\n",
    "\n"
   ]
  },
  {
   "cell_type": "markdown",
   "metadata": {},
   "source": [
    "**Step 3:** Perform T-Tests  \n"
   ]
  },
  {
   "cell_type": "code",
   "execution_count": 8,
   "metadata": {},
   "outputs": [],
   "source": [
    "# Put your code here:\n",
    "\n"
   ]
  },
  {
   "cell_type": "markdown",
   "metadata": {},
   "source": [
    "**Step 4:** Report the results using the standard notation and interpret."
   ]
  },
  {
   "cell_type": "markdown",
   "metadata": {},
   "source": [
    "Report your results and interpret the results here: \n",
    "\n",
    "[Double click to change text]\n"
   ]
  },
  {
   "cell_type": "markdown",
   "metadata": {},
   "source": [
    "## Practical 2: ONE-SAMPLE ANOVA  \n",
    "\n",
    "This section introduces one-way ANOVA (“single-factor” ANOVA) for comparing the means of 3 or more independent groups on a single continuous outcome.\n",
    "\n",
    "When to use\n",
    "- You have one categorical factor with k ≥ 3 levels (e.g., program, treatment type).\n",
    "- Outcome is continuous and normally distributed within groups.\n",
    "- Observations are independent across groups.\n"
   ]
  },
  {
   "cell_type": "markdown",
   "metadata": {},
   "source": [
    "## 2.1 Entering dataset and visualise it\n",
    "\n",
    "This is a mock-up dataset of students' performance in CCI:"
   ]
  },
  {
   "cell_type": "code",
   "execution_count": 15,
   "metadata": {},
   "outputs": [],
   "source": [
    "# Performance of students based on attendance among 4 disciplines\n",
    "BSCDSAI = [89, 89, 88, 78, 79]\n",
    "BSCCS = [93, 92, 94, 89, 88]\n",
    "MSCDSAI= [89, 88, 89, 93, 90]\n",
    "MSCCS = [81, 78, 81, 92, 82]"
   ]
  },
  {
   "cell_type": "code",
   "execution_count": 16,
   "metadata": {},
   "outputs": [
    {
     "data": {
      "image/png": "[encoded data removed]",
      "text/plain": [
       "<Figure size 400x400 with 1 Axes>"
      ]
     },
     "metadata": {},
     "output_type": "display_data"
    }
   ],
   "source": [
    "# Calculating means and standard deviations\n",
    "means = [np.mean(BSCDSAI), np.mean(BSCCS), np.mean(MSCDSAI), np.mean(MSCCS)]\n",
    "std_devs = [np.std(BSCDSAI), np.std(BSCCS), np.std(MSCDSAI), np.std(MSCCS)]\n",
    "\n",
    "# Plotting the bar chart with error bars\n",
    "plt.figure(figsize=(4, 4))\n",
    "plt.bar(['BSCDSAI', 'BSCCS', 'MSCDSAI', 'MSCCS'], means, yerr=std_devs)\n",
    "plt.xlabel('Data Arrays')\n",
    "plt.ylabel('Mean Values')\n",
    "plt.title('Bar chart of means with error bars')\n",
    "plt.show()"
   ]
  },
  {
   "cell_type": "markdown",
   "metadata": {},
   "source": [
    "## 2.2 Conduct the one-way ANOVA"
   ]
  },
  {
   "cell_type": "code",
   "execution_count": 18,
   "metadata": {},
   "outputs": [
    {
     "data": {
      "text/plain": [
       "F_onewayResult(statistic=np.float64(4.625), pvalue=np.float64(0.01633645983978024))"
      ]
     },
     "execution_count": 18,
     "metadata": {},
     "output_type": "execute_result"
    }
   ],
   "source": [
    "# Conduct the one-way ANOVA\n",
    "stats.f_oneway(BSCDSAI,BSCCS,MSCDSAI,MSCCS)\n"
   ]
  },
  {
   "cell_type": "markdown",
   "metadata": {},
   "source": [
    "Inference: `pvalue .01 < 0.5`, Hence Reject Null Hypothesis,   \n",
    "Thus there is evidence of improvement in student performance on regular attendence in class"
   ]
  },
  {
   "cell_type": "markdown",
   "metadata": {},
   "source": [
    "## F statistic calculation  \n",
    "\n",
    "In one-way ANOVA, the F statistic compares **variance explained by the model** (differences between group means, i.e., how far each group’s average is from the overall grand mean) to **unexplained variance** (differences within groups, i.e., how much individual observations vary around their own group’s mean)."
   ]
  },
  {
   "cell_type": "markdown",
   "metadata": {},
   "source": [
    "**Step 1 - Model sum of squares**: how much variance is explained by the differences between groups (i.e., difference between each group mean and the grand mean, square them, multiply count, sum)"
   ]
  },
  {
   "cell_type": "code",
   "execution_count": null,
   "metadata": {},
   "outputs": [],
   "source": [
    "group_a = np.array([3, 5, 4, 4, 2])\n",
    "group_b = np.array([2, 3, 2, 1])\n",
    "group_c = np.array([5, 6, 4, 6])"
   ]
  },
  {
   "cell_type": "code",
   "execution_count": null,
   "metadata": {},
   "outputs": [],
   "source": [
    "grand_mean = np.concatenate((group_a,group_b,group_c)).mean()\n",
    "print(f'grand mean: {grand_mean}')"
   ]
  },
  {
   "cell_type": "code",
   "execution_count": null,
   "metadata": {},
   "outputs": [],
   "source": [
    "model_square_a = (group_a.mean() - grand_mean)**2*len(group_a)\n",
    "model_square_b = (group_b.mean() - grand_mean)**2*len(group_b)\n",
    "model_square_c = (group_c.mean() - grand_mean)**2*len(group_c)"
   ]
  },
  {
   "cell_type": "code",
   "execution_count": null,
   "metadata": {},
   "outputs": [],
   "source": [
    "ssm = model_square_a + model_square_b + model_square_c\n",
    "print(f'Model sum of squares (SSM): {ssm:.2f}')"
   ]
  },
  {
   "cell_type": "markdown",
   "metadata": {},
   "source": [
    "**Step 2 - Residual sum of squares**: difference between the group means and the individual data points, squared and summed"
   ]
  },
  {
   "cell_type": "code",
   "execution_count": null,
   "metadata": {},
   "outputs": [],
   "source": [
    "residual_square_a = (group_a - group_a.mean())**2\n",
    "residual_square_b = (group_b - group_b.mean())**2\n",
    "residual_square_c = (group_c - group_c.mean())**2"
   ]
  },
  {
   "cell_type": "code",
   "execution_count": null,
   "metadata": {},
   "outputs": [],
   "source": [
    "ssr = residual_square_a.sum() + residual_square_b.sum() + residual_square_c.sum()\n",
    "print(f'Residual sum of squares (SSR): {ssr}')"
   ]
  },
  {
   "cell_type": "markdown",
   "metadata": {},
   "source": [
    "**Step 3 - Variation explained by model / Residual variation**:"
   ]
  },
  {
   "cell_type": "code",
   "execution_count": null,
   "metadata": {},
   "outputs": [],
   "source": [
    "# Total Degrees of Freedom\n",
    "dft = len(group_a)+len(group_b)+len(group_c) - 1\n",
    "# Model Degrees of Freedom\n",
    "dfm = 3 - 1 \n",
    "# Residuals Degrees of Freedom\n",
    "dfr = dft - dfm"
   ]
  },
  {
   "cell_type": "code",
   "execution_count": null,
   "metadata": {},
   "outputs": [],
   "source": [
    "# Variation explained by model\n",
    "msm = ssm/dfm\n",
    "print(f'Variation explained by model: {msm}')"
   ]
  },
  {
   "cell_type": "code",
   "execution_count": null,
   "metadata": {},
   "outputs": [],
   "source": [
    "# Residual variation\n",
    "msr = ssr/dfr\n",
    "print(f'Residual variation: {msr}')"
   ]
  },
  {
   "cell_type": "code",
   "execution_count": null,
   "metadata": {},
   "outputs": [],
   "source": [
    "# F (2,10)= MSM / MSR (variance)\n",
    "f = msm / msr\n",
    "print(f'F(2,10) value: {f}')"
   ]
  },
  {
   "cell_type": "markdown",
   "metadata": {},
   "source": [
    "Look up critical F value for p=.05 with $df_R$ and $df_M$. Here is a example lookup table: [https://users.sussex.ac.uk/~grahamh/RM1web/F-ratio%20table%202005.pdf](https://users.sussex.ac.uk/~grahamh/RM1web/F-ratio%20table%202005.pdf)  \n",
    "\n",
    "![img](critical_f_005.png)"
   ]
  },
  {
   "cell_type": "markdown",
   "metadata": {},
   "source": [
    "We notice that our `F > 4.10` Hence Significant `p < .05`"
   ]
  },
  {
   "cell_type": "markdown",
   "metadata": {},
   "source": [
    "## Class Task 2  \n",
    "\n",
    "Following the steps in **Practical 2: ONE-SAMPLE ANOVA**, perform an one-way ANOVA using the data in PPT slide 47 (GroupA, GroupB and GroupC)\n"
   ]
  },
  {
   "cell_type": "markdown",
   "metadata": {},
   "source": [
    "**Step 1:** Create Data for the values in PPT slide 47 (GroupA, GroupB and GroupC) using List \n"
   ]
  },
  {
   "cell_type": "code",
   "execution_count": null,
   "metadata": {},
   "outputs": [],
   "source": [
    "# Put your code here:\n",
    "\n"
   ]
  },
  {
   "cell_type": "markdown",
   "metadata": {},
   "source": [
    "**Step 2:** Visualise data  "
   ]
  },
  {
   "cell_type": "code",
   "execution_count": null,
   "metadata": {},
   "outputs": [],
   "source": [
    "# Put your code here:\n",
    "\n"
   ]
  },
  {
   "cell_type": "markdown",
   "metadata": {},
   "source": [
    "**Step 3:** Perform One way ANOVA  "
   ]
  },
  {
   "cell_type": "code",
   "execution_count": null,
   "metadata": {},
   "outputs": [],
   "source": [
    "# Put your code here:\n",
    "\n"
   ]
  },
  {
   "cell_type": "markdown",
   "metadata": {},
   "source": [
    "**Step 4:** Report the ANOVA using the standard notation and interpret"
   ]
  },
  {
   "cell_type": "markdown",
   "metadata": {},
   "source": [
    "Report your results and interpret the results here:\n"
   ]
  },
  {
   "cell_type": "markdown",
   "metadata": {},
   "source": []
  },
  {
   "cell_type": "markdown",
   "metadata": {},
   "source": [
    "## Practical 3: Factorial ANOVA  \n",
    "\n",
    "This section introduces two-way (factorial) ANOVA to test:\n",
    "- Main effects: whether each factor, by itself, has a mean effect on the outcome.\n",
    "- Interaction: whether the effect of one factor depends on the level of the other factor.\n"
   ]
  },
  {
   "cell_type": "markdown",
   "metadata": {},
   "source": [
    "**Story line:** Steps to perform a two-way ANOVA to determine if drinking water habits and intensity of exercises have a significant effect on child growth, and to determine if there is any interaction effect between drinking water habits and intensity of exercises"
   ]
  },
  {
   "cell_type": "code",
   "execution_count": 19,
   "metadata": {},
   "outputs": [],
   "source": [
    "import numpy as np\n",
    "import pandas as pd\n",
    "import statsmodels.api as sm\n",
    "from statsmodels.formula.api import ols"
   ]
  },
  {
   "cell_type": "code",
   "execution_count": 20,
   "metadata": {},
   "outputs": [],
   "source": [
    "# create a mock-up data\n",
    "df = pd.DataFrame({'Drink_Water': np.repeat(['once_3hours', 'once_6hours'], 15),\n",
    "                   'Exercises': np.tile(np.repeat(['low', 'med', 'high'], 5), 2),\n",
    "                   'Growth': [6, 6, 6, 5, 6, 5, 5, 6, 4, 5,\n",
    "                              6, 6, 7, 8, 7, 3, 4, 4, 4, 5,\n",
    "                              4, 4, 4, 4, 4, 5, 6, 6, 7, 8]})\n"
   ]
  },
  {
   "cell_type": "code",
   "execution_count": 24,
   "metadata": {},
   "outputs": [
    {
     "data": {
      "text/html": [
       "<div>\n",
       "<style scoped>\n",
       "    .dataframe tbody tr th:only-of-type {\n",
       "        vertical-align: middle;\n",
       "    }\n",
       "\n",
       "    .dataframe tbody tr th {\n",
       "        vertical-align: top;\n",
       "    }\n",
       "\n",
       "    .dataframe thead th {\n",
       "        text-align: right;\n",
       "    }\n",
       "</style>\n",
       "<table border=\"1\" class=\"dataframe\">\n",
       "  <thead>\n",
       "    <tr style=\"text-align: right;\">\n",
       "      <th></th>\n",
       "      <th>Drink_Water</th>\n",
       "      <th>Exercises</th>\n",
       "      <th>Growth</th>\n",
       "    </tr>\n",
       "  </thead>\n",
       "  <tbody>\n",
       "    <tr>\n",
       "      <th>0</th>\n",
       "      <td>once_3hours</td>\n",
       "      <td>low</td>\n",
       "      <td>6</td>\n",
       "    </tr>\n",
       "    <tr>\n",
       "      <th>1</th>\n",
       "      <td>once_3hours</td>\n",
       "      <td>low</td>\n",
       "      <td>6</td>\n",
       "    </tr>\n",
       "    <tr>\n",
       "      <th>2</th>\n",
       "      <td>once_3hours</td>\n",
       "      <td>low</td>\n",
       "      <td>6</td>\n",
       "    </tr>\n",
       "    <tr>\n",
       "      <th>3</th>\n",
       "      <td>once_3hours</td>\n",
       "      <td>low</td>\n",
       "      <td>5</td>\n",
       "    </tr>\n",
       "    <tr>\n",
       "      <th>4</th>\n",
       "      <td>once_3hours</td>\n",
       "      <td>low</td>\n",
       "      <td>6</td>\n",
       "    </tr>\n",
       "    <tr>\n",
       "      <th>5</th>\n",
       "      <td>once_3hours</td>\n",
       "      <td>med</td>\n",
       "      <td>5</td>\n",
       "    </tr>\n",
       "    <tr>\n",
       "      <th>6</th>\n",
       "      <td>once_3hours</td>\n",
       "      <td>med</td>\n",
       "      <td>5</td>\n",
       "    </tr>\n",
       "    <tr>\n",
       "      <th>7</th>\n",
       "      <td>once_3hours</td>\n",
       "      <td>med</td>\n",
       "      <td>6</td>\n",
       "    </tr>\n",
       "    <tr>\n",
       "      <th>8</th>\n",
       "      <td>once_3hours</td>\n",
       "      <td>med</td>\n",
       "      <td>4</td>\n",
       "    </tr>\n",
       "    <tr>\n",
       "      <th>9</th>\n",
       "      <td>once_3hours</td>\n",
       "      <td>med</td>\n",
       "      <td>5</td>\n",
       "    </tr>\n",
       "  </tbody>\n",
       "</table>\n",
       "</div>"
      ],
      "text/plain": [
       "   Drink_Water Exercises  Growth\n",
       "0  once_3hours       low       6\n",
       "1  once_3hours       low       6\n",
       "2  once_3hours       low       6\n",
       "3  once_3hours       low       5\n",
       "4  once_3hours       low       6\n",
       "5  once_3hours       med       5\n",
       "6  once_3hours       med       5\n",
       "7  once_3hours       med       6\n",
       "8  once_3hours       med       4\n",
       "9  once_3hours       med       5"
      ]
     },
     "execution_count": 24,
     "metadata": {},
     "output_type": "execute_result"
    }
   ],
   "source": [
    "#view first ten rows of data \n",
    "df[:10]"
   ]
  },
  {
   "cell_type": "code",
   "execution_count": 26,
   "metadata": {},
   "outputs": [
    {
     "data": {
      "text/html": [
       "<div>\n",
       "<style scoped>\n",
       "    .dataframe tbody tr th:only-of-type {\n",
       "        vertical-align: middle;\n",
       "    }\n",
       "\n",
       "    .dataframe tbody tr th {\n",
       "        vertical-align: top;\n",
       "    }\n",
       "\n",
       "    .dataframe thead th {\n",
       "        text-align: right;\n",
       "    }\n",
       "</style>\n",
       "<table border=\"1\" class=\"dataframe\">\n",
       "  <thead>\n",
       "    <tr style=\"text-align: right;\">\n",
       "      <th></th>\n",
       "      <th>sum_sq</th>\n",
       "      <th>df</th>\n",
       "      <th>F</th>\n",
       "      <th>PR(&gt;F)</th>\n",
       "    </tr>\n",
       "  </thead>\n",
       "  <tbody>\n",
       "    <tr>\n",
       "      <th>C(Drink_Water)</th>\n",
       "      <td>8.533333</td>\n",
       "      <td>1.0</td>\n",
       "      <td>16.0000</td>\n",
       "      <td>0.000527</td>\n",
       "    </tr>\n",
       "    <tr>\n",
       "      <th>C(Exercises)</th>\n",
       "      <td>24.866667</td>\n",
       "      <td>2.0</td>\n",
       "      <td>23.3125</td>\n",
       "      <td>0.000002</td>\n",
       "    </tr>\n",
       "    <tr>\n",
       "      <th>C(Drink_Water):C(Exercises)</th>\n",
       "      <td>2.466667</td>\n",
       "      <td>2.0</td>\n",
       "      <td>2.3125</td>\n",
       "      <td>0.120667</td>\n",
       "    </tr>\n",
       "    <tr>\n",
       "      <th>Residual</th>\n",
       "      <td>12.800000</td>\n",
       "      <td>24.0</td>\n",
       "      <td>NaN</td>\n",
       "      <td>NaN</td>\n",
       "    </tr>\n",
       "  </tbody>\n",
       "</table>\n",
       "</div>"
      ],
      "text/plain": [
       "                                sum_sq    df        F    PR(>F)\n",
       "C(Drink_Water)                8.533333   1.0  16.0000  0.000527\n",
       "C(Exercises)                 24.866667   2.0  23.3125  0.000002\n",
       "C(Drink_Water):C(Exercises)   2.466667   2.0   2.3125  0.120667\n",
       "Residual                     12.800000  24.0      NaN       NaN"
      ]
     },
     "execution_count": 26,
     "metadata": {},
     "output_type": "execute_result"
    }
   ],
   "source": [
    "#perform two-way ANOVA\n",
    "model = ols('Growth ~ C(Drink_Water) + C(Exercises) + C(Drink_Water):C(Exercises)', data=df).fit()\n",
    "\n",
    "sm.stats.anova_lm(model, typ=2)\n"
   ]
  },
  {
   "cell_type": "markdown",
   "metadata": {},
   "source": [
    "Since the p-values for `Drink_Water` and `Exercises` are both less than .05 (0.000527 and 0.000002 respectively), this means that both factors have a statistically significant effect on child `Growth`.  \n",
    "But, p-value for the interaction effect (.120667) is not less than .05, this tells us that there is no significant interaction effect between Drinking water habits and Exercises.\n",
    " \n",
    "Note: Although the ANOVA results tell us that drinking water habits and exercises have a statistically significant effect on child `Growth`, we would need to perform post-hoc tests to determine exactly how different Drinking water habits and Exercise intensity affect child `Growth`.\n"
   ]
  },
  {
   "cell_type": "markdown",
   "metadata": {},
   "source": [
    "## Class Task 3   \n",
    "\n",
    "**Data:** In PPT slide 67 (they're in the [`therapy_dose.csv`](therapy_dose.csv) file), there's a mock-up dataset from a panic therapy study (see explanations in slides 64-66).  \n",
    "**Task:** Following the steps in **Practical 3**, perform a Factorial ANOVA to investigate the effects of 3 kinds of therapy on experienced panic symptoms, and whether the therapy interacts with drug dose (3 levels) in determining panic symptoms.\n"
   ]
  },
  {
   "cell_type": "markdown",
   "metadata": {},
   "source": [
    "**Step 1:** Load data from the [`therapy_dose.csv`](therapy_dose.csv) file.  \n",
    "> Hint: Look at last week's notebook for how to load `.csv` file into Python dataframe `df`"
   ]
  },
  {
   "cell_type": "code",
   "execution_count": null,
   "metadata": {},
   "outputs": [],
   "source": [
    "# Put your code here:\n"
   ]
  },
  {
   "cell_type": "markdown",
   "metadata": {},
   "source": [
    "**Step 2:** Perform Factorial ANOVA based on the model above"
   ]
  },
  {
   "cell_type": "code",
   "execution_count": null,
   "metadata": {},
   "outputs": [],
   "source": [
    "# Put your code here:\n"
   ]
  },
  {
   "cell_type": "markdown",
   "metadata": {},
   "source": [
    "**Step 3:** Report the ANOVA using the standard notation and interpre"
   ]
  },
  {
   "cell_type": "markdown",
   "metadata": {},
   "source": [
    "Report your results and interpret the results here:\n"
   ]
  },
  {
   "cell_type": "markdown",
   "metadata": {},
   "source": []
  }
 ],
 "metadata": {
  "kernelspec": {
   "display_name": "critical1",
   "language": "python",
   "name": "python3"
  },
  "language_info": {
   "codemirror_mode": {
    "name": "ipython",
    "version": 3
   },
   "file_extension": ".py",
   "mimetype": "text/x-python",
   "name": "python",
   "nbconvert_exporter": "python",
   "pygments_lexer": "ipython3",
   "version": "3.12.11"
  }
 },
 "nbformat": 4,
 "nbformat_minor": 4
}
